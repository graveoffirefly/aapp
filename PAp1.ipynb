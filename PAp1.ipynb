{
 "cells": [
  {
   "cell_type": "code",
   "execution_count": 26,
   "id": "e174e10f-12ab-483b-bb01-70bf4dd2bc43",
   "metadata": {},
   "outputs": [],
   "source": [
    "import seaborn as sns\n",
    "import pandas as pd\n",
    "flights = sns.load_dataset('flights')"
   ]
  },
  {
   "cell_type": "code",
   "execution_count": 27,
   "id": "6cc10747-debc-4909-8802-368ad2a0b342",
   "metadata": {},
   "outputs": [
    {
     "data": {
      "text/plain": [
       "count    144.000000\n",
       "mean     280.298611\n",
       "std      119.966317\n",
       "min      104.000000\n",
       "25%      180.000000\n",
       "50%      265.500000\n",
       "75%      360.500000\n",
       "max      622.000000\n",
       "Name: passengers, dtype: float64"
      ]
     },
     "execution_count": 27,
     "metadata": {},
     "output_type": "execute_result"
    }
   ],
   "source": [
    "summary_statistics = flights['passengers'].describe()\n",
    "summary_statistics"
   ]
  },
  {
   "cell_type": "code",
   "execution_count": 14,
   "id": "a6fef66e-0443-451f-92d3-137cccd536c1",
   "metadata": {},
   "outputs": [
    {
     "name": "stdout",
     "output_type": "stream",
     "text": [
      "maximum passangers:622, minimum passangers:104\n"
     ]
    }
   ],
   "source": [
    "min_passengers = flights['passengers'].min()\n",
    "max_passengers = flights['passengers'].max()\n",
    "print(f\"maximum passangers:{max_passengers}, minimum passangers:{min_passengers}\")"
   ]
  },
  {
   "cell_type": "code",
   "execution_count": 17,
   "id": "617479aa-fae7-493d-8557-6ddc046c1f07",
   "metadata": {},
   "outputs": [
    {
     "data": {
      "text/plain": [
       "year\n",
       "1949    12\n",
       "1950    12\n",
       "1951    12\n",
       "1952    12\n",
       "1953    12\n",
       "1954    12\n",
       "1955    12\n",
       "1956    12\n",
       "1957    12\n",
       "1958    12\n",
       "1959    12\n",
       "1960    12\n",
       "Name: count, dtype: int64"
      ]
     },
     "execution_count": 17,
     "metadata": {},
     "output_type": "execute_result"
    }
   ],
   "source": [
    "#Identify how many times each year appears in the dataset\n",
    "year_count = flights['year'].value_counts()\n",
    "year_count"
   ]
  },
  {
   "cell_type": "code",
   "execution_count": 25,
   "id": "0d0e239e-8334-4232-8edf-b482bb4d64f0",
   "metadata": {},
   "outputs": [
    {
     "data": {
      "text/plain": [
       "month\n",
       "Jan    2901\n",
       "Feb    2820\n",
       "Mar    3242\n",
       "Apr    3205\n",
       "May    3262\n",
       "Jun    3740\n",
       "Jul    4216\n",
       "Aug    4213\n",
       "Sep    3629\n",
       "Oct    3199\n",
       "Nov    2794\n",
       "Dec    3142\n",
       "Name: passengers, dtype: int64"
      ]
     },
     "execution_count": 25,
     "metadata": {},
     "output_type": "execute_result"
    }
   ],
   "source": [
    "# 5. Calculate the total number of passengers for each month across all years\n",
    "total_passengers_by_month = flights.groupby('month', observed=False)['passengers'].sum()\n",
    "total_passengers_by_month"
   ]
  },
  {
   "cell_type": "code",
   "execution_count": 23,
   "id": "1be1dca4-31fb-4688-84be-ea2b726543aa",
   "metadata": {},
   "outputs": [
    {
     "name": "stdout",
     "output_type": "stream",
     "text": [
      "total_passengers_1949: 1520, total_passengers_1960:5714\n"
     ]
    }
   ],
   "source": [
    "total_passengers_1949 = grouped_flights.get_group(1949)['passengers'].sum()\n",
    "total_passengers_1949\n",
    "total_passengers_1960 = grouped_flights.get_group(1960)['passengers'].sum()\n",
    "total_passengers_1960\n",
    "print(f\"total_passengers_1949: {total_passengers_1949}, total_passengers_1960:{total_passengers_1960}\")"
   ]
  },
  {
   "cell_type": "code",
   "execution_count": 5,
   "id": "10b691e6-faa1-47e9-88f8-0f18c96b7a03",
   "metadata": {},
   "outputs": [],
   "source": [
    "unique_years = flights['year'].unique()\n",
    "nunique_years = flights['year'].nunique()"
   ]
  },
  {
   "cell_type": "code",
   "execution_count": 6,
   "id": "036a5965-65a8-48f1-b80b-37fcc1e3bf6f",
   "metadata": {},
   "outputs": [
    {
     "data": {
      "text/plain": [
       "(np.int64(1520),\n",
       " np.int64(5714),\n",
       " array([1949, 1950, 1951, 1952, 1953, 1954, 1955, 1956, 1957, 1958, 1959,\n",
       "        1960]),\n",
       " 12)"
      ]
     },
     "execution_count": 6,
     "metadata": {},
     "output_type": "execute_result"
    }
   ],
   "source": [
    "(total_passengers_1949, total_passengers_1960, unique_years, nunique_years)"
   ]
  },
  {
   "cell_type": "code",
   "execution_count": 8,
   "id": "80cab3f1-0bef-4849-9536-e45c2111e309",
   "metadata": {},
   "outputs": [
    {
     "data": {
      "image/png": "[encoded data removed]",
      "text/plain": [
       "<Figure size 800x600 with 1 Axes>"
      ]
     },
     "metadata": {},
     "output_type": "display_data"
    }
   ],
   "source": [
    "import matplotlib.pyplot as plt\n",
    "#histogram of passengers\n",
    "plt.figure(figsize=(8,6))\n",
    "plt.hist(flights['passengers'], bins=20, color='skyblue', edgecolor='black')\n",
    "plt.title('Distribution of Passengers')\n",
    "plt.xlabel('Number of Passengers')\n",
    "plt.ylabel('Frequency')\n",
    "plt.show()"
   ]
  },
  {
   "cell_type": "code",
   "execution_count": null,
   "id": "8e0c0e31-67ea-4e42-af71-bb25bf2de9e8",
   "metadata": {},
   "outputs": [],
   "source": []
  }
 ],
 "metadata": {
  "kernelspec": {
   "display_name": "Python 3 (ipykernel)",
   "language": "python",
   "name": "python3"
  },
  "language_info": {
   "codemirror_mode": {
    "name": "ipython",
    "version": 3
   },
   "file_extension": ".py",
   "mimetype": "text/x-python",
   "name": "python",
   "nbconvert_exporter": "python",
   "pygments_lexer": "ipython3",
   "version": "3.12.4"
  }
 },
 "nbformat": 4,
 "nbformat_minor": 5
}
