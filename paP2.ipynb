{
 "cells": [
  {
   "cell_type": "code",
   "execution_count": 11,
   "id": "508a583c-8baf-49e2-916b-37d5fb3facb6",
   "metadata": {},
   "outputs": [
    {
     "data": {
      "text/html": [
       "<div>\n",
       "<style scoped>\n",
       "    .dataframe tbody tr th:only-of-type {\n",
       "        vertical-align: middle;\n",
       "    }\n",
       "\n",
       "    .dataframe tbody tr th {\n",
       "        vertical-align: top;\n",
       "    }\n",
       "\n",
       "    .dataframe thead th {\n",
       "        text-align: right;\n",
       "    }\n",
       "</style>\n",
       "<table border=\"1\" class=\"dataframe\">\n",
       "  <thead>\n",
       "    <tr style=\"text-align: right;\">\n",
       "      <th></th>\n",
       "      <th>year</th>\n",
       "      <th>month</th>\n",
       "      <th>passengers</th>\n",
       "    </tr>\n",
       "  </thead>\n",
       "  <tbody>\n",
       "    <tr>\n",
       "      <th>0</th>\n",
       "      <td>1949</td>\n",
       "      <td>Jan</td>\n",
       "      <td>112</td>\n",
       "    </tr>\n",
       "    <tr>\n",
       "      <th>1</th>\n",
       "      <td>1949</td>\n",
       "      <td>Feb</td>\n",
       "      <td>118</td>\n",
       "    </tr>\n",
       "    <tr>\n",
       "      <th>2</th>\n",
       "      <td>1949</td>\n",
       "      <td>Mar</td>\n",
       "      <td>132</td>\n",
       "    </tr>\n",
       "    <tr>\n",
       "      <th>3</th>\n",
       "      <td>1949</td>\n",
       "      <td>Apr</td>\n",
       "      <td>129</td>\n",
       "    </tr>\n",
       "    <tr>\n",
       "      <th>4</th>\n",
       "      <td>1949</td>\n",
       "      <td>May</td>\n",
       "      <td>121</td>\n",
       "    </tr>\n",
       "  </tbody>\n",
       "</table>\n",
       "</div>"
      ],
      "text/plain": [
       "   year month  passengers\n",
       "0  1949   Jan         112\n",
       "1  1949   Feb         118\n",
       "2  1949   Mar         132\n",
       "3  1949   Apr         129\n",
       "4  1949   May         121"
      ]
     },
     "execution_count": 11,
     "metadata": {},
     "output_type": "execute_result"
    }
   ],
   "source": [
    "import seaborn as sns\n",
    "import pandas as pd\n",
    "flights= sns.load_dataset('flights')\n",
    "flights.head()"
   ]
  },
  {
   "cell_type": "code",
   "execution_count": 15,
   "id": "80a58761-ec52-419a-b9d6-2081ac53ac81",
   "metadata": {},
   "outputs": [
    {
     "name": "stdout",
     "output_type": "stream",
     "text": [
      "Maximum passengers: 622, Minimum passengers: 104\n"
     ]
    }
   ],
   "source": [
    "passenger_stats = flights['passengers'].agg(['min', 'max'])\n",
    "print(f\"Maximum passengers: {passenger_stats['max']}, Minimum passengers: {passenger_stats['min']}\")"
   ]
  },
  {
   "cell_type": "code",
   "execution_count": 24,
   "id": "0dca8249-a099-40ed-b2d8-f33c2a8f822c",
   "metadata": {},
   "outputs": [
    {
     "name": "stdout",
     "output_type": "stream",
     "text": [
      "   month  passengers\n",
      "0    Jan  241.750000\n",
      "1    Feb  235.000000\n",
      "2    Mar  270.166667\n",
      "3    Apr  267.083333\n",
      "4    May  271.833333\n",
      "5    Jun  311.666667\n",
      "6    Jul  351.333333\n",
      "7    Aug  351.083333\n",
      "8    Sep  302.416667\n",
      "9    Oct  266.583333\n",
      "10   Nov  232.833333\n",
      "11   Dec  261.833333\n"
     ]
    }
   ],
   "source": [
    "# avg number of passengers by month\n",
    "average_passengers = flights.groupby('month',observed=True)['passengers'].mean().reset_index()\n",
    "print(average_passengers)"
   ]
  },
  {
   "cell_type": "code",
   "execution_count": 23,
   "id": "82a82c5d-b0ba-415d-8885-d1856b640000",
   "metadata": {},
   "outputs": [
    {
     "name": "stdout",
     "output_type": "stream",
     "text": [
      "The month with the highest average passengers is: Jul with an average of 351.33 passengers.\n"
     ]
    }
   ],
   "source": [
    "highest_avg_month = flights.groupby('month', observed=True)['passengers'].mean().idxmax()\n",
    "highest_avg_value = flights.groupby('month', observed=True)['passengers'].mean().max()\n",
    "print(f\"The month with the highest average passengers is: {highest_avg_month} with an average of {highest_avg_value:.2f} passengers.\")"
   ]
  },
  {
   "cell_type": "code",
   "execution_count": 26,
   "id": "765e15b7-15af-4a3c-b113-be5207e6365c",
   "metadata": {},
   "outputs": [
    {
     "name": "stdout",
     "output_type": "stream",
     "text": [
      "year   1949  1950  1951  1952  1953  1954  1955  1956  1957  1958  1959  1960\n",
      "month                                                                        \n",
      "Jan     112   115   145   171   196   204   242   284   315   340   360   417\n",
      "Feb     118   126   150   180   196   188   233   277   301   318   342   391\n",
      "Mar     132   141   178   193   236   235   267   317   356   362   406   419\n",
      "Apr     129   135   163   181   235   227   269   313   348   348   396   461\n",
      "May     121   125   172   183   229   234   270   318   355   363   420   472\n",
      "Jun     135   149   178   218   243   264   315   374   422   435   472   535\n",
      "Jul     148   170   199   230   264   302   364   413   465   491   548   622\n",
      "Aug     148   170   199   242   272   293   347   405   467   505   559   606\n",
      "Sep     136   158   184   209   237   259   312   355   404   404   463   508\n",
      "Oct     119   133   162   191   211   229   274   306   347   359   407   461\n",
      "Nov     104   114   146   172   180   203   237   271   305   310   362   390\n",
      "Dec     118   140   166   194   201   229   278   306   336   337   405   432\n"
     ]
    }
   ],
   "source": [
    "crosstab_result = pd.crosstab(index=flights['month'], columns=flights['year'], values=flights['passengers'], aggfunc='sum').fillna(0)\n",
    "print(crosstab_result)"
   ]
  },
  {
   "cell_type": "code",
   "execution_count": null,
   "id": "90d828dc-1768-4fe8-bd1c-1c7234caf87b",
   "metadata": {},
   "outputs": [],
   "source": []
  }
 ],
 "metadata": {
  "kernelspec": {
   "display_name": "Python 3 (ipykernel)",
   "language": "python",
   "name": "python3"
  },
  "language_info": {
   "codemirror_mode": {
    "name": "ipython",
    "version": 3
   },
   "file_extension": ".py",
   "mimetype": "text/x-python",
   "name": "python",
   "nbconvert_exporter": "python",
   "pygments_lexer": "ipython3",
   "version": "3.12.4"
  }
 },
 "nbformat": 4,
 "nbformat_minor": 5
}
